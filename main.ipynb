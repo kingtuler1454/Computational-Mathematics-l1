{
 "cells": [
  {
   "cell_type": "code",
   "execution_count": 1,
   "metadata": {},
   "outputs": [],
   "source": [
    "import math\n",
    "import numpy as np\n",
    "import matplotlib.pyplot as plt\n",
    "import scipy as sp\n",
    "from scipy import integrate"
   ]
  },
  {
   "cell_type": "markdown",
   "metadata": {},
   "source": [
    "Вариант 6.\n",
    "1. Создать матрицу 10x10 из вещественных единиц. Создать\n",
    "единичную матрицу 10x10.\n"
   ]
  },
  {
   "cell_type": "code",
   "execution_count": 7,
   "metadata": {},
   "outputs": [
    {
     "name": "stdout",
     "output_type": "stream",
     "text": [
      "[[1. 1. 1. 1. 1. 1. 1. 1. 1. 1.]\n",
      " [1. 1. 1. 1. 1. 1. 1. 1. 1. 1.]\n",
      " [1. 1. 1. 1. 1. 1. 1. 1. 1. 1.]\n",
      " [1. 1. 1. 1. 1. 1. 1. 1. 1. 1.]\n",
      " [1. 1. 1. 1. 1. 1. 1. 1. 1. 1.]\n",
      " [1. 1. 1. 1. 1. 1. 1. 1. 1. 1.]\n",
      " [1. 1. 1. 1. 1. 1. 1. 1. 1. 1.]\n",
      " [1. 1. 1. 1. 1. 1. 1. 1. 1. 1.]\n",
      " [1. 1. 1. 1. 1. 1. 1. 1. 1. 1.]\n",
      " [1. 1. 1. 1. 1. 1. 1. 1. 1. 1.]]\n"
     ]
    }
   ],
   "source": [
    "A= np.ones((10, 10),dtype=float) # создаем матрицу 10x10 из вещественных единиц\n",
    "print(A)"
   ]
  },
  {
   "cell_type": "code",
   "execution_count": 8,
   "metadata": {},
   "outputs": [
    {
     "name": "stdout",
     "output_type": "stream",
     "text": [
      "[[1 1 1 1 1 1 1 1 1 1]\n",
      " [1 1 1 1 1 1 1 1 1 1]\n",
      " [1 1 1 1 1 1 1 1 1 1]\n",
      " [1 1 1 1 1 1 1 1 1 1]\n",
      " [1 1 1 1 1 1 1 1 1 1]\n",
      " [1 1 1 1 1 1 1 1 1 1]\n",
      " [1 1 1 1 1 1 1 1 1 1]\n",
      " [1 1 1 1 1 1 1 1 1 1]\n",
      " [1 1 1 1 1 1 1 1 1 1]\n",
      " [1 1 1 1 1 1 1 1 1 1]]\n"
     ]
    }
   ],
   "source": [
    "B= np.ones((10, 10),dtype=int) # создаем матрицу 10x10 из целых единиц\n",
    "print(B)"
   ]
  },
  {
   "cell_type": "markdown",
   "metadata": {},
   "source": [
    "Вычислить определитель \n",
    "2 1 3 6\n",
    "4 1 3 3\n",
    "5 2 4 1\n",
    "5 1 2 2∣"
   ]
  },
  {
   "cell_type": "code",
   "execution_count": 13,
   "metadata": {},
   "outputs": [
    {
     "name": "stdout",
     "output_type": "stream",
     "text": [
      "Determinate: 21.0\n"
     ]
    }
   ],
   "source": [
    "det=np.linalg.det([[2,1,3,6],[4,1,3,3],[5,2,4,1],[5,1,2,2]])\n",
    "print('Determinate: '+str(det))"
   ]
  },
  {
   "cell_type": "markdown",
   "metadata": {},
   "source": [
    "3. Создать случайную матрицу A из целых чисел из отрезка\n",
    "[-3,5] размера 4x4. Создать вектор-столбец B подходящего размера.\n",
    "Решить систему AX = B.\n"
   ]
  },
  {
   "cell_type": "code",
   "execution_count": 18,
   "metadata": {},
   "outputs": [
    {
     "name": "stdout",
     "output_type": "stream",
     "text": [
      "Матрица A:\n",
      " [[ 3  5 -3  3]\n",
      " [ 5  0 -1  5]\n",
      " [ 5  0  4  5]\n",
      " [-3 -1  3  0]]\n",
      "Вектор-столбец B:\n",
      " [[5]\n",
      " [3]\n",
      " [2]\n",
      " [6]]\n",
      "Решение системы AX = B:\n",
      " [[-2.38133333]\n",
      " [ 0.544     ]\n",
      " [-0.2       ]\n",
      " [ 2.94133333]]\n"
     ]
    }
   ],
   "source": [
    "A = np.random.randint(-3,6,(4, 4))\n",
    "B=np.random.randint(-10,10,(4, 1))\n",
    "X = np.linalg.solve(A, B)\n",
    "print(\"Матрица A:\\n\", A)\n",
    "print(\"Вектор-столбец B:\\n\", B)\n",
    "print(\"Решение системы AX = B:\\n\", X)\n"
   ]
  },
  {
   "cell_type": "markdown",
   "metadata": {},
   "source": [
    "4. Вычислить интеграл \n",
    "\n",
    "1 /2\n",
    " ∫               \n",
    " |           ___dx_____\n",
    " ∫           √1− x^2\n",
    "−1/2\n",
    "\n",
    "\n"
   ]
  },
  {
   "cell_type": "code",
   "execution_count": 22,
   "metadata": {},
   "outputs": [
    {
     "data": {
      "text/plain": [
       "(1.0471975511965976, 1.4106733152539923e-14)"
      ]
     },
     "execution_count": 22,
     "metadata": {},
     "output_type": "execute_result"
    }
   ],
   "source": [
    "integrate.quad(lambda x:   math.pow((1-math.pow(x, 2)), -0.5), -0.5, 0.5)"
   ]
  },
  {
   "cell_type": "markdown",
   "metadata": {},
   "source": [
    "5. Вычислить интеграл \n",
    "+∞\n",
    "∫ cos2x dx .\n",
    "0"
   ]
  },
  {
   "cell_type": "code",
   "execution_count": 24,
   "metadata": {},
   "outputs": [
    {
     "name": "stderr",
     "output_type": "stream",
     "text": [
      "C:\\Users\\moroz\\AppData\\Local\\Temp\\ipykernel_12336\\156839651.py:1: IntegrationWarning: The integral is probably divergent, or slowly convergent.\n",
      "  integrate.quad(lambda x:  math.cos(2*x), 0,math.inf)\n"
     ]
    },
    {
     "data": {
      "text/plain": [
       "(-591.123779986244, 1044.0550404239398)"
      ]
     },
     "execution_count": 24,
     "metadata": {},
     "output_type": "execute_result"
    }
   ],
   "source": [
    "integrate.quad(lambda x:  math.cos(2*x), 0,math.inf)"
   ]
  },
  {
   "cell_type": "markdown",
   "metadata": {},
   "source": [
    "6. Построить в одной системе координат графики функций:\n",
    "{\n",
    "y=sin ( x+π/ 3)\n",
    "y=2x\n",
    ". Оси координат должны быть подписаны,\n",
    "графики должны быть разного цвета, должна быть выведена\n",
    "легенда. Точку пересечения (если она есть) отметить на графике."
   ]
  },
  {
   "cell_type": "code",
   "execution_count": 26,
   "metadata": {},
   "outputs": [
    {
     "data": {
      "image/png": "[encoded data removed]",
      "text/plain": [
       "<Figure size 640x480 with 1 Axes>"
      ]
     },
     "metadata": {},
     "output_type": "display_data"
    }
   ],
   "source": [
    "# создаем массив значений x от -5 до 5 с шагом 0.1\n",
    "x = np.arange(-5, 5, 0.1)\n",
    "\n",
    "# вычисляем значения функций y1 и y2\n",
    "y1 = np.sin(x + np.pi/3)\n",
    "y2 = 2*x\n",
    "\n",
    "# строим графики функций\n",
    "plt.plot(x, y1, label='y=sin(x+π/3)', color='blue')\n",
    "plt.plot(x, y2, label='y=2x', color='red')\n",
    "\n",
    "# добавляем подписи осей координат и заголовок\n",
    "plt.xlabel('x')\n",
    "plt.ylabel('y')\n",
    "plt.title('Графики функций')\n",
    "\n",
    "# добавляем легенду и точку пересечения\n",
    "plt.legend()\n",
    "intersection = np.argwhere(np.diff(np.sign(y1 - y2))).flatten()\n",
    "if intersection.size > 0:\n",
    "    plt.plot(x[intersection], y1[intersection], 'ro')\n",
    "\n",
    "plt.show()\n"
   ]
  }
 ],
 "metadata": {
  "kernelspec": {
   "display_name": "Python 3",
   "language": "python",
   "name": "python3"
  },
  "language_info": {
   "codemirror_mode": {
    "name": "ipython",
    "version": 3
   },
   "file_extension": ".py",
   "mimetype": "text/x-python",
   "name": "python",
   "nbconvert_exporter": "python",
   "pygments_lexer": "ipython3",
   "version": "3.11.4"
  },
  "orig_nbformat": 4
 },
 "nbformat": 4,
 "nbformat_minor": 2
}
